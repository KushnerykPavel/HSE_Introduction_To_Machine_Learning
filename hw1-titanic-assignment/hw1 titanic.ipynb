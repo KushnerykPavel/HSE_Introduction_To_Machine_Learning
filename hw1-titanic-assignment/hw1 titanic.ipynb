{
 "cells": [
  {
   "cell_type": "code",
   "execution_count": 1,
   "metadata": {
    "collapsed": true
   },
   "outputs": [],
   "source": [
    "import numpy as np\n",
    "import pandas as pd\n",
    "import matplotlib.pyplot as plt\n",
    "import seaborn"
   ]
  },
  {
   "cell_type": "code",
   "execution_count": 2,
   "metadata": {
    "collapsed": true
   },
   "outputs": [],
   "source": [
    "df = pd.read_csv('titanic.csv', index_col='PassengerId')"
   ]
  },
  {
   "cell_type": "code",
   "execution_count": 4,
   "metadata": {
    "collapsed": false
   },
   "outputs": [
    {
     "data": {
      "text/plain": [
       "male      577\n",
       "female    314\n",
       "Name: Sex, dtype: int64"
      ]
     },
     "execution_count": 4,
     "metadata": {},
     "output_type": "execute_result"
    }
   ],
   "source": [
    "'''\n",
    "    1.Какое количество мужчин и женщин ехало на корабле? В качестве ответа приведите два числа через пробел.\n",
    "'''\n",
    "\n",
    "df['Sex'].value_counts()"
   ]
  },
  {
   "cell_type": "code",
   "execution_count": 58,
   "metadata": {
    "collapsed": false
   },
   "outputs": [
    {
     "data": {
      "text/plain": [
       "38.38"
      ]
     },
     "execution_count": 58,
     "metadata": {},
     "output_type": "execute_result"
    }
   ],
   "source": [
    "'''\n",
    "    2.Какой части пассажиров удалось выжить? Посчитайте долю выживших пассажиров. \n",
    "    Ответ приведите в процентах (число в интервале от 0 до 100, знак процента не нужен), округлив до двух знаков.\n",
    "'''\n",
    "\n",
    "round(100*(len(df[df['Survived']==1])/len(df)),2)"
   ]
  },
  {
   "cell_type": "code",
   "execution_count": 57,
   "metadata": {
    "collapsed": false
   },
   "outputs": [
    {
     "data": {
      "text/plain": [
       "24.24"
      ]
     },
     "execution_count": 57,
     "metadata": {},
     "output_type": "execute_result"
    }
   ],
   "source": [
    "'''\n",
    "    3.Какую долю пассажиры первого класса составляли среди всех пассажиров?\n",
    "    Ответ приведите в процентах (число в интервале от 0 до 100, знак процента не нужен), \n",
    "    округлив до двух знаков.\n",
    "'''\n",
    "\n",
    "round(100*(len(df[df['Pclass']==1])/len(df)),2)"
   ]
  },
  {
   "cell_type": "code",
   "execution_count": 65,
   "metadata": {
    "collapsed": false
   },
   "outputs": [
    {
     "data": {
      "text/plain": [
       "(29.69911764705882, 14.526497332334044)"
      ]
     },
     "execution_count": 65,
     "metadata": {},
     "output_type": "execute_result"
    }
   ],
   "source": [
    "'''\n",
    "    4.Какого возраста были пассажиры? Посчитайте среднее и медиану возраста пассажиров.\n",
    "    В качестве ответа приведите два числа через пробел.\n",
    "'''\n",
    "\n",
    "df['Age'].mean(), df['Age'].std()"
   ]
  },
  {
   "cell_type": "code",
   "execution_count": 72,
   "metadata": {
    "collapsed": false
   },
   "outputs": [
    {
     "data": {
      "image/png": "[encoded data removed]",
      "text/plain": [
       "<matplotlib.figure.Figure at 0xa61dcc0>"
      ]
     },
     "metadata": {},
     "output_type": "display_data"
    }
   ],
   "source": [
    "df['Age'].hist()\n",
    "plt.show()"
   ]
  },
  {
   "cell_type": "code",
   "execution_count": 73,
   "metadata": {
    "collapsed": false
   },
   "outputs": [
    {
     "data": {
      "text/plain": [
       "0.41483769862015663"
      ]
     },
     "execution_count": 73,
     "metadata": {},
     "output_type": "execute_result"
    }
   ],
   "source": [
    "'''\n",
    "    5.Коррелируют ли число братьев/сестер/супругов с числом родителей/детей?\n",
    "    Посчитайте корреляцию Пирсона между признаками SibSp и Parch.\n",
    "'''\n",
    "\n",
    "df['SibSp'].corr(df['Parch'], method='pearson', min_periods=None)"
   ]
  },
  {
   "cell_type": "code",
   "execution_count": 102,
   "metadata": {
    "collapsed": false
   },
   "outputs": [],
   "source": [
    "'''\n",
    "    6.Какое самое популярное женское имя на корабле? Извлеките из полного имени \n",
    "    пассажира (колонка Name) его личное имя (First Name). Это задание — типичный \n",
    "    пример того, с чем сталкивается специалист по анализу данных. Данные очень разнородные\n",
    "    и шумные, но из них требуется извлечь необходимую информацию. Попробуйте вручную \n",
    "    разобрать несколько значений столбца Name и выработать правило для извлечения имен, \n",
    "    а также разделения их на женские и мужские.\n",
    "    \n",
    "    https://github.com/tyz910/hse-shad-ml\n",
    "'''\n",
    "\n",
    "\n",
    "import re\n",
    "def clean_name(name):\n",
    "    # Первое слово до запятой - фамилия\n",
    "    s = re.search('^[^,]+, (.*)', name)\n",
    "    if s:\n",
    "        name = s.group(1)\n",
    "\n",
    "    # Если есть скобки - то имя пассажира в них\n",
    "    s = re.search('\\(([^)]+)\\)', name)\n",
    "    if s:\n",
    "        name = s.group(1)\n",
    "\n",
    "    # Удаляем обращения\n",
    "    name = re.sub('(Miss\\. |Mrs\\. |Ms\\. )', '', name)\n",
    "\n",
    "    # Берем первое оставшееся слово и удаляем кавычки\n",
    "    name = name.split(' ')[0].replace('\"', '')\n",
    "\n",
    "    return name\n",
    "\n",
    "\n",
    "names = df[df['Sex'] == 'female']['Name'].map(clean_name)\n",
    "name_counts = names.value_counts()"
   ]
  },
  {
   "cell_type": "code",
   "execution_count": 103,
   "metadata": {
    "collapsed": false
   },
   "outputs": [
    {
     "name": "stdout",
     "output_type": "stream",
     "text": [
      "Anna\n"
     ]
    }
   ],
   "source": [
    "fn = df[df['Sex'] == 'female']['Name']\n",
    "\n",
    "def extract_first_name(name):\n",
    "    \"\"\"\n",
    "    Функция извлечения first name from name\n",
    "    :param name: name\n",
    "    :return: first name\n",
    "    \"\"\"\n",
    "    # первое слово в скобках\n",
    "    m = re.search(\".*\\\\((.*)\\\\).*\", name)\n",
    "    if m is not None:\n",
    "        return m.group(1).split(\" \")[0]\n",
    "    # первое слово после Mrs. or Miss. or else\n",
    "    m1 = re.search(\".*\\\\. ([A-Za-z]*)\", name)\n",
    "    return m1.group(1)\n",
    "\n",
    "# получаем имя с максимальной частотой\n",
    "r = fn.map(lambda full_name: extract_first_name(full_name)).value_counts().idxmax()\n",
    "print(r)"
   ]
  },
  {
   "cell_type": "code",
   "execution_count": null,
   "metadata": {
    "collapsed": true
   },
   "outputs": [],
   "source": []
  }
 ],
 "metadata": {
  "anaconda-cloud": {},
  "kernelspec": {
   "display_name": "Python [conda root]",
   "language": "python",
   "name": "conda-root-py"
  },
  "language_info": {
   "codemirror_mode": {
    "name": "ipython",
    "version": 3
   },
   "file_extension": ".py",
   "mimetype": "text/x-python",
   "name": "python",
   "nbconvert_exporter": "python",
   "pygments_lexer": "ipython3",
   "version": "3.5.2"
  }
 },
 "nbformat": 4,
 "nbformat_minor": 1
}

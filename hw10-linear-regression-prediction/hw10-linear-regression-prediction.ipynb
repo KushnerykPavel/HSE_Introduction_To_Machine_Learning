{
 "cells": [
  {
   "cell_type": "code",
   "execution_count": 40,
   "metadata": {
    "collapsed": false
   },
   "outputs": [],
   "source": [
    "import pandas as pd\n",
    "import numpy as np\n",
    "\n",
    "from scipy.sparse import hstack\n",
    "\n",
    "from sklearn.feature_extraction.text import TfidfVectorizer\n",
    "from sklearn.feature_extraction import DictVectorizer\n",
    "from sklearn.linear_model import Ridge"
   ]
  },
  {
   "cell_type": "code",
   "execution_count": 3,
   "metadata": {
    "collapsed": false
   },
   "outputs": [],
   "source": [
    "'''\n",
    "   1. Загрузите данные об описаниях вакансий и соответствующих годовых зарплатах из файла \n",
    "   salary-train.csv (либо его заархивированную версию salary-train.zip).\n",
    "'''\n",
    "\n",
    "df = pd.read_csv('salary-train.csv')"
   ]
  },
  {
   "cell_type": "code",
   "execution_count": 67,
   "metadata": {
    "collapsed": false
   },
   "outputs": [],
   "source": [
    "#2. Проведите предобработку: \n",
    "\n",
    "# Приведите тексты к нижнему регистру (text.lower())\n",
    "\n",
    "df['LocationNormalized'] = df['LocationNormalized'].map(lambda i : i.lower())\n",
    "df['FullDescription'] = df['FullDescription'].map(lambda i : i.lower())\n",
    "\n",
    "'''\n",
    "    Замените все, кроме букв и цифр, на пробелы — это облегчит дальнейшее разделение\n",
    "    текста на слова. Для такой замены в строке text подходит следующий вызов: \n",
    "    re.sub('[^a-zA-Z0-9]', ' ', text). Также можно воспользоваться методом replace у \n",
    "    DataFrame, чтобы сразу преобразовать все тексты:\n",
    "            train['FullDescription'] = train['FullDescription'].replace('[^a-zA-Z0-9]', ' ', \n",
    "            regex = True)\n",
    "'''\n",
    "\n",
    "df['FullDescription'] = df['FullDescription'].replace('[^a-zA-Z0-9]', ' ', regex = True)\n",
    "df['LocationNormalized'] = df['LocationNormalized'].replace('[^a-zA-Z0-9]', ' ', regex = True)\n",
    "\n",
    "# Замените пропуски в столбцах LocationNormalized и ContractTime на специальную строку 'nan'.\n",
    "\n",
    "df['LocationNormalized'].fillna('nan', inplace=True)\n",
    "df['ContractTime'].fillna('nan', inplace=True)\n",
    "\n",
    "\n",
    "'''\n",
    "    Примените TfidfVectorizer для преобразования текстов в векторы признаков. Оставьте \n",
    "    только те слова, которые встречаются хотя бы в 5 объектах (параметр min_df у TfidfVectorizer).\n",
    "'''\n",
    "\n",
    "vec = TfidfVectorizer(min_df = 5)\n",
    "X_train_text = vec.fit_transform(df['FullDescription'])\n",
    "\n",
    "# Примените DictVectorizer для получения one-hot-кодирования признаков LocationNormalized и ContractTime.\n",
    "\n",
    "enc = DictVectorizer()\n",
    "X_train_cat = enc.fit_transform(df[['LocationNormalized', 'ContractTime']].to_dict('records'))\n",
    "\n",
    "'''\n",
    "    Объедините все полученные признаки в одну матрицу \"объекты-признаки\". Обратите внимание, что матрицы для текстов и\n",
    "    категориальных признаков являются разреженными. Для объединения их столбцов нужно воспользоваться функцией\n",
    "    scipy.sparse.hstack.\n",
    "'''\n",
    "\n",
    "X_train = hstack([X_train_text, X_train_cat])"
   ]
  },
  {
   "cell_type": "code",
   "execution_count": 47,
   "metadata": {
    "collapsed": false
   },
   "outputs": [
    {
     "data": {
      "text/plain": [
       "Ridge(alpha=1.0, copy_X=True, fit_intercept=True, max_iter=None,\n",
       "   normalize=False, random_state=241, solver='auto', tol=0.001)"
      ]
     },
     "execution_count": 47,
     "metadata": {},
     "output_type": "execute_result"
    }
   ],
   "source": [
    "'''\n",
    "    3. Обучите гребневую регрессию с параметрами alpha=1 и random_state=241. Целевая переменная записана \n",
    "    в столбце SalaryNormalized.\n",
    "'''\n",
    "\n",
    "y_train = df['SalaryNormalized']\n",
    "model = Ridge(alpha=1.0, random_state=241)\n",
    "model.fit(X_train, y_train)"
   ]
  },
  {
   "cell_type": "code",
   "execution_count": 68,
   "metadata": {
    "collapsed": false
   },
   "outputs": [],
   "source": [
    "'''\n",
    "    4. Постройте прогнозы для двух примеров из файла salary-test-mini.csv. Значения полученных прогнозов\n",
    "    являются ответом на задание. Укажите их через пробел.\n",
    "'''\n",
    "\n",
    "test = pd.read_csv('salary-test-mini.csv')\n",
    "\n",
    "test['FullDescription'] = test['FullDescription'].map(lambda i : i.lower())\n",
    "test['FullDescription'] = test['FullDescription'].replace('[^a-zA-Z0-9]', ' ', regex = True)\n",
    "\n",
    "X_test_text = vec.transform(test['FullDescription'])\n",
    "X_test_cat = enc.transform(test[['LocationNormalized', 'ContractTime']].to_dict('records'))\n",
    "X_test = hstack([X_test_text, X_test_cat])\n",
    "\n",
    "y_test = model.predict(X_test)"
   ]
  },
  {
   "cell_type": "code",
   "execution_count": 70,
   "metadata": {
    "collapsed": false
   },
   "outputs": [
    {
     "name": "stdout",
     "output_type": "stream",
     "text": [
      "55850.59 37182.51\n"
     ]
    }
   ],
   "source": [
    "print('{:0.2f} {:0.2f}'.format(y_test[0], y_test[1]))"
   ]
  },
  {
   "cell_type": "code",
   "execution_count": null,
   "metadata": {
    "collapsed": true
   },
   "outputs": [],
   "source": []
  }
 ],
 "metadata": {
  "anaconda-cloud": {},
  "kernelspec": {
   "display_name": "Python [conda root]",
   "language": "python",
   "name": "conda-root-py"
  },
  "language_info": {
   "codemirror_mode": {
    "name": "ipython",
    "version": 3
   },
   "file_extension": ".py",
   "mimetype": "text/x-python",
   "name": "python",
   "nbconvert_exporter": "python",
   "pygments_lexer": "ipython3",
   "version": "3.5.2"
  }
 },
 "nbformat": 4,
 "nbformat_minor": 2
}

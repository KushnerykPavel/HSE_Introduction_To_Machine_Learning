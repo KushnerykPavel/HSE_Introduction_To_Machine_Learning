{
 "cells": [
  {
   "cell_type": "code",
   "execution_count": 14,
   "metadata": {
    "collapsed": true
   },
   "outputs": [],
   "source": [
    "import pandas as pd\n",
    "import numpy as np\n",
    "\n",
    "from sklearn.decomposition import PCA"
   ]
  },
  {
   "cell_type": "code",
   "execution_count": 2,
   "metadata": {
    "collapsed": true
   },
   "outputs": [],
   "source": [
    "'''\n",
    "    1. Загрузите данные close_prices.csv. В этом файле приведены цены акций 30\n",
    "    компаний на закрытии торгов за каждый день периода.\n",
    "'''\n",
    "\n",
    "df = pd.read_csv('close_prices.csv')"
   ]
  },
  {
   "cell_type": "code",
   "execution_count": 128,
   "metadata": {
    "collapsed": false
   },
   "outputs": [
    {
     "name": "stdout",
     "output_type": "stream",
     "text": [
      "4\n"
     ]
    }
   ],
   "source": [
    "'''\n",
    "    2. На загруженных данных обучите преобразование PCA с числом компоненты равным 10. Скольких компонент \n",
    "    хватит, чтобы объяснить 90% дисперсии?\n",
    "'''\n",
    "\n",
    "X = df.loc[:,'AXP':]\n",
    "\n",
    "model = PCA(n_components=10)\n",
    "model.fit(X.values)\n",
    "\n",
    "n_components = 0\n",
    "components = 0 \n",
    "\n",
    "for i in model.explained_variance_ratio_:\n",
    "    n_components += 1\n",
    "    components += i\n",
    "    if components >= 0.9:\n",
    "        break\n",
    "        \n",
    "print(n_components)\n",
    "\n",
    "df_comp = pd.DataFrame(model.fit_transform(X))\n",
    "comp0 =df_comp[0]"
   ]
  },
  {
   "cell_type": "code",
   "execution_count": 129,
   "metadata": {
    "collapsed": false
   },
   "outputs": [
    {
     "name": "stdout",
     "output_type": "stream",
     "text": [
      "0.91\n"
     ]
    }
   ],
   "source": [
    "'''\n",
    "   3. Загрузите информацию об индексе Доу-Джонса из файла djia_index.csv. Чему равна корреляция \n",
    "   Пирсона между первой компонентой и индексом Доу-Джонса?\n",
    "'''\n",
    "\n",
    "df1 = pd.read_csv('djia_index.csv')\n",
    "\n",
    "corr = np.corrcoef(comp0,df1['^DJI'])\n",
    "\n",
    "print(np.round(corr[0,1],2))"
   ]
  },
  {
   "cell_type": "code",
   "execution_count": 132,
   "metadata": {
    "collapsed": false
   },
   "outputs": [
    {
     "name": "stdout",
     "output_type": "stream",
     "text": [
      "V\n"
     ]
    }
   ],
   "source": [
    "'''\n",
    "    5.Какая компания имеет наибольший вес в первой компоненте? Укажите ее название с большой буквы.\n",
    "'''\n",
    "\n",
    "comp0_w = pd.Series(model.components_[0])\n",
    "comp0_w_top = comp0_w.sort_values(ascending=False).head(1).index[0]\n",
    "company = X.columns[comp0_w_top]\n",
    "print(company)"
   ]
  },
  {
   "cell_type": "code",
   "execution_count": 127,
   "metadata": {
    "collapsed": false
   },
   "outputs": [
    {
     "data": {
      "text/plain": [
       "0     0.016138\n",
       "1     0.120645\n",
       "2    -0.051661\n",
       "3     0.050484\n",
       "4    -0.125860\n",
       "5     0.114090\n",
       "6     0.233906\n",
       "7    -0.006205\n",
       "8     0.251227\n",
       "9     0.288996\n",
       "10   -0.264999\n",
       "11    0.093132\n",
       "12    0.091395\n",
       "13    0.046988\n",
       "14    0.029055\n",
       "15   -0.026107\n",
       "16    0.329616\n",
       "17    0.071390\n",
       "18    0.076230\n",
       "19    0.211889\n",
       "20    0.023092\n",
       "21    0.077732\n",
       "22   -0.007206\n",
       "23    0.189480\n",
       "24    0.321564\n",
       "25    0.053683\n",
       "26    0.579684\n",
       "27    0.000109\n",
       "28    0.087161\n",
       "29   -0.042942\n",
       "dtype: float64"
      ]
     },
     "execution_count": 127,
     "metadata": {},
     "output_type": "execute_result"
    }
   ],
   "source": [
    "pd.Series(model.components_[0])"
   ]
  },
  {
   "cell_type": "code",
   "execution_count": null,
   "metadata": {
    "collapsed": true
   },
   "outputs": [],
   "source": []
  }
 ],
 "metadata": {
  "anaconda-cloud": {},
  "kernelspec": {
   "display_name": "Python [conda root]",
   "language": "python",
   "name": "conda-root-py"
  },
  "language_info": {
   "codemirror_mode": {
    "name": "ipython",
    "version": 3
   },
   "file_extension": ".py",
   "mimetype": "text/x-python",
   "name": "python",
   "nbconvert_exporter": "python",
   "pygments_lexer": "ipython3",
   "version": "3.5.2"
  }
 },
 "nbformat": 4,
 "nbformat_minor": 2
}

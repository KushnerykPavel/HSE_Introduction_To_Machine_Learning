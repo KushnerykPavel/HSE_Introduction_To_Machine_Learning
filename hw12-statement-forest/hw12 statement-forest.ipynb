{
 "cells": [
  {
   "cell_type": "code",
   "execution_count": 63,
   "metadata": {
    "collapsed": true
   },
   "outputs": [],
   "source": [
    "import pandas as pd \n",
    "import numpy as np\n",
    "import matplotlib.pyplot as plt\n",
    "\n",
    "from sklearn.ensemble import RandomForestRegressor\n",
    "from sklearn.cross_validation import KFold, cross_val_score"
   ]
  },
  {
   "cell_type": "code",
   "execution_count": 7,
   "metadata": {
    "collapsed": false
   },
   "outputs": [
    {
     "data": {
      "text/html": [
       "<div>\n",
       "<table border=\"1\" class=\"dataframe\">\n",
       "  <thead>\n",
       "    <tr style=\"text-align: right;\">\n",
       "      <th></th>\n",
       "      <th>Sex</th>\n",
       "      <th>Length</th>\n",
       "      <th>Diameter</th>\n",
       "      <th>Height</th>\n",
       "      <th>WholeWeight</th>\n",
       "      <th>ShuckedWeight</th>\n",
       "      <th>VisceraWeight</th>\n",
       "      <th>ShellWeight</th>\n",
       "      <th>Rings</th>\n",
       "    </tr>\n",
       "  </thead>\n",
       "  <tbody>\n",
       "    <tr>\n",
       "      <th>0</th>\n",
       "      <td>M</td>\n",
       "      <td>0.455</td>\n",
       "      <td>0.365</td>\n",
       "      <td>0.095</td>\n",
       "      <td>0.514</td>\n",
       "      <td>0.2245</td>\n",
       "      <td>0.101</td>\n",
       "      <td>0.15</td>\n",
       "      <td>15</td>\n",
       "    </tr>\n",
       "  </tbody>\n",
       "</table>\n",
       "</div>"
      ],
      "text/plain": [
       "  Sex  Length  Diameter  Height  WholeWeight  ShuckedWeight  VisceraWeight  \\\n",
       "0   M   0.455     0.365   0.095        0.514         0.2245          0.101   \n",
       "\n",
       "   ShellWeight  Rings  \n",
       "0         0.15     15  "
      ]
     },
     "execution_count": 7,
     "metadata": {},
     "output_type": "execute_result"
    }
   ],
   "source": [
    "'''\n",
    "    1. Загрузите данные из файла abalone.csv. Это датасет, в котором требуется\n",
    "    предсказать возраст ракушки (число колец) по физическим измерениям.\n",
    "'''\n",
    "\n",
    "df = pd.read_csv('abalone.csv')\n",
    "df.head(1)"
   ]
  },
  {
   "cell_type": "code",
   "execution_count": 18,
   "metadata": {
    "collapsed": false
   },
   "outputs": [],
   "source": [
    "'''\n",
    "    2.Преобразуйте признак Sex в числовой: значение F должно перейти в -1, I — в 0,\n",
    "    M — в 1. Если вы используете Pandas, то подойдет следующий код: \n",
    "    data['Sex'] = data['Sex'].map(lambda x: 1 if x == 'M' else (-1 if x == 'F' else 0))\n",
    "'''\n",
    "\n",
    "df['Sex'] = df['Sex'].map(lambda x : 1 if x == 'M' else (-1 if x == 'F' else 0))"
   ]
  },
  {
   "cell_type": "code",
   "execution_count": 21,
   "metadata": {
    "collapsed": false
   },
   "outputs": [],
   "source": [
    "'''\n",
    "    3. Разделите содержимое файлов на признаки и целевую переменную. В последнем \n",
    "    столбце записана целевая переменная, в остальных — признаки.\n",
    "'''\n",
    "\n",
    "X = df.loc[:,'Sex':'ShellWeight']\n",
    "y = df['Rings']"
   ]
  },
  {
   "cell_type": "code",
   "execution_count": 58,
   "metadata": {
    "collapsed": false
   },
   "outputs": [],
   "source": [
    "'''\n",
    "    4.Обучите случайный лес (sklearn.ensemble.RandomForestRegressor) с различным \n",
    "    числом деревьев: от 1 до 50 (не забудьте выставить \"random_state=1\" в конструкторе).\n",
    "    Для каждого из вариантов оцените качество работы полученного леса на \n",
    "    кросс-валидации по 5 блокам. Используйте параметры \"random_state=1\" и \"shuffle=True\" \n",
    "    при создании генератора кросс-валидации sklearn.cross_validation.KFold. В качестве\n",
    "    меры качества воспользуйтесь коэффициентом детерминации (sklearn.metrics.r2_score).\n",
    "'''\n",
    "\n",
    "kf = KFold(n=y.size,n_folds=2,random_state=1,shuffle=True)\n",
    "\n",
    "scores = [0.0]\n",
    "for i in range(1,51):\n",
    "    model = RandomForestRegressor(n_estimators=i,random_state=1)\n",
    "    score = np.mean(cross_val_score(model, X.values, y.values, cv=kf, scoring='r2'))\n",
    "    scores.append(score)\n"
   ]
  },
  {
   "cell_type": "code",
   "execution_count": 62,
   "metadata": {
    "collapsed": false
   },
   "outputs": [
    {
     "name": "stdout",
     "output_type": "stream",
     "text": [
      "25\n"
     ]
    }
   ],
   "source": [
    "'''\n",
    "    5. Определите, при каком минимальном количестве деревьев случайный лес показывает\n",
    "    качество на кросс-валидации выше 0.52. Это количество и будет ответом на задание.\n",
    "'''\n",
    "\n",
    "\n",
    "for n,i in enumerate(scores):\n",
    "    if i >= 0.52:\n",
    "        print(n)\n",
    "        break"
   ]
  },
  {
   "cell_type": "code",
   "execution_count": 66,
   "metadata": {
    "collapsed": false
   },
   "outputs": [
    {
     "data": {
      "image/png": "[encoded data removed]",
      "text/plain": [
       "<matplotlib.figure.Figure at 0xc0a7fb0>"
      ]
     },
     "metadata": {},
     "output_type": "display_data"
    }
   ],
   "source": [
    "'''\n",
    "    6. Обратите внимание на изменение качества по мере роста числа деревьев. Ухудшается ли оно?\n",
    "'''\n",
    "\n",
    "plt.plot(scores)\n",
    "plt.xlabel('n_estimators')\n",
    "plt.ylabel('score')\n",
    "plt.show()"
   ]
  },
  {
   "cell_type": "code",
   "execution_count": null,
   "metadata": {
    "collapsed": true
   },
   "outputs": [],
   "source": []
  }
 ],
 "metadata": {
  "anaconda-cloud": {},
  "kernelspec": {
   "display_name": "Python [conda root]",
   "language": "python",
   "name": "conda-root-py"
  },
  "language_info": {
   "codemirror_mode": {
    "name": "ipython",
    "version": 3
   },
   "file_extension": ".py",
   "mimetype": "text/x-python",
   "name": "python",
   "nbconvert_exporter": "python",
   "pygments_lexer": "ipython3",
   "version": "3.5.2"
  }
 },
 "nbformat": 4,
 "nbformat_minor": 2
}

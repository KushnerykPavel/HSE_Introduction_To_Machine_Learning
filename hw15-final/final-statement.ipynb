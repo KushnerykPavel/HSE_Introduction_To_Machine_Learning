{
 "cells": [
  {
   "cell_type": "markdown",
   "metadata": {},
   "source": [
    "# Финальное задание"
   ]
  },
  {
   "cell_type": "code",
   "execution_count": 1,
   "metadata": {
    "collapsed": true
   },
   "outputs": [],
   "source": [
    "import json\n",
    "import bz2\n",
    "\n",
    "with bz2.BZ2File('./data/matches.jsonlines.bz2') as matches_file:\n",
    "    for line in matches_file:\n",
    "        match = json.loads(line.decode('utf-8'))\n",
    "        \n",
    "        # Обработка матча\n",
    "        break"
   ]
  },
  {
   "cell_type": "code",
   "execution_count": 116,
   "metadata": {},
   "outputs": [
    {
     "data": {
      "text/plain": [
       "((17177, 102), (97230, 108))"
      ]
     },
     "execution_count": 116,
     "metadata": {},
     "output_type": "execute_result"
    }
   ],
   "source": [
    "import pandas\n",
    "\n",
    "df = pandas.read_csv('./data/features.csv', index_col='match_id')\n",
    "df_test = pandas.read_csv('./data/features_test.csv', index_col='match_id')\n",
    "\n",
    "df_test.shape, df.shape"
   ]
  },
  {
   "cell_type": "markdown",
   "metadata": {},
   "source": [
    "#### Описание признаков в таблице\n",
    "\n",
    "- `match_id`: идентификатор матча в наборе данных\n",
    "- `start_time`: время начала матча (unixtime)\n",
    "- `lobby_type`: тип комнаты, в которой собираются игроки (расшифровка в `dictionaries/lobbies.csv`)\n",
    "- Наборы признаков для каждого игрока (игроки команды Radiant — префикс `rN`, Dire — `dN`):\n",
    "    - `r1_hero`: герой игрока (расшифровка в dictionaries/heroes.csv)\n",
    "    - `r1_level`: максимальный достигнутый уровень героя (за первые 5 игровых минут)\n",
    "    - `r1_xp`: максимальный полученный опыт\n",
    "    - `r1_gold`: достигнутая ценность героя\n",
    "    - `r1_lh`: число убитых юнитов\n",
    "    - `r1_kills`: число убитых игроков\n",
    "    - `r1_deaths`: число смертей героя\n",
    "    - `r1_items`: число купленных предметов\n",
    "- Признаки события \"первая кровь\" (first blood). Если событие \"первая кровь\" не успело произойти за первые 5 минут, то признаки принимают пропущенное значение\n",
    "    - `first_blood_time`: игровое время первой крови\n",
    "    - `first_blood_team`: команда, совершившая первую кровь (0 — Radiant, 1 — Dire)\n",
    "    - `first_blood_player1`: игрок, причастный к событию\n",
    "    - `first_blood_player2`: второй игрок, причастный к событию\n",
    "- Признаки для каждой команды (префиксы `radiant_` и `dire_`)\n",
    "    - `radiant_bottle_time`: время первого приобретения командой предмета \"bottle\"\n",
    "    - `radiant_courier_time`: время приобретения предмета \"courier\" \n",
    "    - `radiant_flying_courier_time`: время приобретения предмета \"flying_courier\" \n",
    "    - `radiant_tpscroll_count`: число предметов \"tpscroll\" за первые 5 минут\n",
    "    - `radiant_boots_count`: число предметов \"boots\"\n",
    "    - `radiant_ward_observer_count`: число предметов \"ward_observer\"\n",
    "    - `radiant_ward_sentry_count`: число предметов \"ward_sentry\"\n",
    "    - `radiant_first_ward_time`: время установки командой первого \"наблюдателя\", т.е. предмета, который позволяет видеть часть игрового поля\n",
    "- Итог матча (данные поля отсутствуют в тестовой выборке, поскольку содержат информацию, выходящую за пределы первых 5 минут матча)\n",
    "    - `duration`: длительность\n",
    "    - `radiant_win`: 1, если победила команда Radiant, 0 — иначе\n",
    "    - Состояние башен и барраков к концу матча (см. описание полей набора данных)\n",
    "        - `tower_status_radiant`\n",
    "        - `tower_status_dire`\n",
    "        - `barracks_status_radiant`\n",
    "        - `barracks_status_dire`"
   ]
  },
  {
   "cell_type": "markdown",
   "metadata": {},
   "source": [
    "## Метрика качества\n",
    "\n",
    "В качестве метрики качества мы будем использовать площадь под ROC-кривой (AUC-ROC). Обратите внимание, что AUC-ROC — это метрика качества для алгоритма, выдающего оценки принадлежности первому классу. Оба алгоритма, которые будут использоваться в проекте — градиентный бустинг, и логистическая регрессия — умеют выдавать такие оценки. Для этого нужно получать предсказания с помощью функции predict_proba. Она возвращает два столбца: первый содержит оценки принадлежности нулевому классу, второй — первому классу. Вам нужны значения из второго столбца:\n",
    "```python\n",
    "pred = clf.predict_proba(X_test)[:, 1]\n",
    "```"
   ]
  },
  {
   "cell_type": "markdown",
   "metadata": {},
   "source": [
    "### Подход 1: градиентный бустинг \"в лоб\"\n",
    "Один из самых универсальных алгоритмов, изученных в нашем курсе, является градиентный бустинг. Он не очень требователен к данным, восстанавливает нелинейные зависимости, и хорошо работает на многих наборах данных, что и обуславливает его популярность. Вполне разумной мыслью будет попробовать именно его в первую очередь.\n",
    "\n",
    "1. Считайте таблицу с признаками из файла features.csv с помощью кода, приведенного выше. Удалите признаки, связанные с итогами матча (они помечены в описании данных как отсутствующие в тестовой выборке).\n",
    "2. Проверьте выборку на наличие пропусков с помощью функции count(), которая для каждого столбца показывает число заполненных значений. Много ли пропусков в данных? Запишите названия признаков, имеющих пропуски, и попробуйте для любых двух из них дать обоснование, почему их значения могут быть пропущены.\n",
    "3. Замените пропуски на нули с помощью функции fillna(). На самом деле этот способ является предпочтительным для логистической регрессии, поскольку он позволит пропущенному значению не вносить никакого вклада в предсказание. Для деревьев часто лучшим вариантом оказывается замена пропуска на очень большое или очень маленькое значение — в этом случае при построении разбиения вершины можно будет отправить объекты с пропусками в отдельную ветвь дерева. Также есть и другие подходы — например, замена пропуска на среднее значение признака. Мы не требуем этого в задании, но при желании попробуйте разные подходы к обработке пропусков и сравните их между собой.\n",
    "3. Какой столбец содержит целевую переменную? Запишите его название.\n",
    "4. Забудем, что в выборке есть категориальные признаки, и попробуем обучить градиентный бустинг над деревьями на имеющейся матрице \"объекты-признаки\". Зафиксируйте генератор разбиений для кросс-валидации по 5 блокам (KFold), не забудьте перемешать при этом выборку (shuffle=True), поскольку данные в таблице отсортированы по времени, и без перемешивания можно столкнуться с нежелательными эффектами при оценивании качества. Оцените качество градиентного бустинга (GradientBoostingClassifier) с помощью данной кросс-валидации, попробуйте при этом разное количество деревьев (как минимум протестируйте следующие значения для количества деревьев: 10, 20, 30). Долго ли настраивались классификаторы? Достигнут ли оптимум на испытанных значениях параметра n_estimators, или же качество, скорее всего, продолжит расти при дальнейшем его увеличении?\n",
    "\n",
    "##### Что указать в отчете\n",
    "В отчете по данному этапу вы должны ответить на следующие вопросы:\n",
    "1. Какие признаки имеют пропуски среди своих значений? Что могут означать пропуски в этих признаках (ответьте на этот вопрос для двух любых признаков)?\n",
    "2. Как называется столбец, содержащий целевую переменную?\n",
    "3. Как долго проводилась кросс-валидация для градиентного бустинга с 30 деревьями? Инструкцию по измерению времени можно найти ниже по тексту. Какое качество при этом получилось? Напомним, что в данном задании мы используем метрику качества AUC-ROC.\n",
    "4. Имеет ли смысл использовать больше 30 деревьев в градиентном бустинге? Что бы вы предложили делать, чтобы ускорить его обучение при увеличении количества деревьев?\n",
    "\n",
    "\n",
    "##### Рекомендации и советы\n",
    "\n",
    "- Если все работает очень медлено:\n",
    "   - Используйте для обучения и кросс-валидации не всю выборку, а некоторое ее подмножество — например, половину объектов. Подмножество лучше всего брать случайным, а не формировать его из первых m объектов.\n",
    "   - Попробуйте упростить модель — например, уменьшить глубину деревьев в градиентом бустинге (max_depth).\n",
    "   \n",
    "##### Измерение времени работы кода\n",
    "```python\n",
    "import time\n",
    "import datetime\n",
    "\n",
    "start_time = datetime.datetime.now()\n",
    "\n",
    "time.sleep(3) # вместо этой строчки разместить замеряемый код\n",
    "\n",
    "print 'Time elapsed:', datetime.datetime.now() - start_time\n",
    "```"
   ]
  },
  {
   "cell_type": "code",
   "execution_count": 43,
   "metadata": {
    "collapsed": true
   },
   "outputs": [],
   "source": [
    "import time\n",
    "import datetime\n",
    "import numpy as np\n",
    "import matplotlib.pyplot as plt\n",
    "\n",
    "from sklearn.ensemble import GradientBoostingClassifier\n",
    "from sklearn.model_selection import KFold, cross_val_score\n",
    "\n",
    "from sklearn.metrics import roc_curve"
   ]
  },
  {
   "cell_type": "code",
   "execution_count": 32,
   "metadata": {},
   "outputs": [
    {
     "name": "stdout",
     "output_type": "stream",
     "text": [
      "first_blood_time\n",
      "first_blood_team\n",
      "first_blood_player1\n",
      "first_blood_player2\n",
      "radiant_bottle_time\n",
      "radiant_courier_time\n",
      "radiant_flying_courier_time\n",
      "radiant_first_ward_time\n",
      "dire_bottle_time\n",
      "dire_courier_time\n",
      "dire_flying_courier_time\n",
      "dire_first_ward_time\n"
     ]
    }
   ],
   "source": [
    "counts = len(df)\n",
    "empt_cols = desc.T[desc.T['count'] < counts]\n",
    "for i in empt_cols.index:\n",
    "    print(i)"
   ]
  },
  {
   "cell_type": "code",
   "execution_count": 57,
   "metadata": {},
   "outputs": [
    {
     "data": {
      "text/plain": [
       "((97230, 102), (17177, 102))"
      ]
     },
     "execution_count": 57,
     "metadata": {},
     "output_type": "execute_result"
    }
   ],
   "source": [
    "#Избавляемся от пропусков в данных, данных соответствующих \n",
    "#результату матча и определяем целевую переменную\n",
    "df = df.fillna(value=0.0)\n",
    "X = df.loc[:,:'dire_first_ward_time']\n",
    "y = df['radiant_win']\n",
    "\n",
    "df_test = df_test.fillna(value=0.0)\n",
    "X_test = df_test.loc[:,:]\n",
    "X.shape, X_test.shape"
   ]
  },
  {
   "cell_type": "code",
   "execution_count": 41,
   "metadata": {},
   "outputs": [
    {
     "name": "stdout",
     "output_type": "stream",
     "text": [
      "--------5--------\n",
      "Time elapsed: 0:00:23.852643\n",
      "[ 0.64538752  0.63341518  0.63161852  0.63063263  0.63336316]\n",
      "--------10--------\n",
      "Time elapsed: 0:00:39.378065\n",
      "[ 0.6685008   0.66489537  0.6615558   0.66166809  0.66671503]\n",
      "--------20--------\n",
      "Time elapsed: 0:01:14.052930\n",
      "[ 0.68438476  0.68330378  0.68303221  0.67957362  0.68123478]\n",
      "--------30--------\n",
      "Time elapsed: 0:01:50.506892\n",
      "[ 0.68891566  0.68823837  0.69295156  0.68652823  0.6894174 ]\n",
      "--------60--------\n",
      "Time elapsed: 0:03:33.503482\n",
      "[ 0.70279787  0.70341632  0.69691526  0.69818289  0.69875864]\n",
      "--------100--------\n",
      "Time elapsed: 0:05:44.361280\n",
      "[ 0.70126917  0.70270667  0.71160199  0.71374851  0.70231076]\n"
     ]
    }
   ],
   "source": [
    "kf = KFold(n_splits=5, shuffle=True)\n",
    "\n",
    "scores =[]\n",
    "\n",
    "\n",
    "for k in [5,10,20,30,60,100]:\n",
    "    print('-'*8 + str(k) + '-'*8)\n",
    "    model = GradientBoostingClassifier(n_estimators=k)\n",
    "    start_time = datetime.datetime.now()\n",
    "    score = cross_val_score(model, X, y, cv=kf, scoring='roc_auc')\n",
    "    print('Time elapsed: '+str( datetime.datetime.now() - start_time))\n",
    "    print(score)\n",
    "    scores.append(np.mean(score))"
   ]
  },
  {
   "cell_type": "code",
   "execution_count": 44,
   "metadata": {},
   "outputs": [
    {
     "data": {
      "image/png": "[encoded data removed]",
      "text/plain": [
       "<matplotlib.figure.Figure at 0x7fd04fae0080>"
      ]
     },
     "metadata": {},
     "output_type": "display_data"
    }
   ],
   "source": [
    "plt.plot([5,10,20,30,60,100],scores)\n",
    "plt.show()"
   ]
  },
  {
   "cell_type": "code",
   "execution_count": 48,
   "metadata": {},
   "outputs": [
    {
     "data": {
      "text/plain": [
       "0.68999999999999995"
      ]
     },
     "execution_count": 48,
     "metadata": {},
     "output_type": "execute_result"
    }
   ],
   "source": [
    "round(scores[3],2)"
   ]
  },
  {
   "cell_type": "markdown",
   "metadata": {},
   "source": [
    "Кросс-валидация для градиентного бустинга с 30 деревьями заняла 0:01:50.\n",
    "Показатель AUC-ROC в таком случае равен 0.69."
   ]
  },
  {
   "cell_type": "markdown",
   "metadata": {},
   "source": [
    "Увеличение количества деревьев увеличивает показатель метрики, приближая его к 0.71. Для достижения большего качества необходимо использовать более 30 деревьев. Для ускорения обучения можно использовать не всю выборку. Также можно уменьшить глубину деревьев (max_depth)."
   ]
  },
  {
   "cell_type": "code",
   "execution_count": 59,
   "metadata": {
    "collapsed": true
   },
   "outputs": [],
   "source": [
    "model = GradientBoostingClassifier(n_estimators=30)\n",
    "model.fit(X,y)\n",
    "\n",
    "y_pred_grad_proba = model.predict_proba(X_test)[:,1]"
   ]
  },
  {
   "cell_type": "code",
   "execution_count": 60,
   "metadata": {
    "collapsed": true
   },
   "outputs": [],
   "source": [
    "Submition = pandas.DataFrame( y_pred_grad_proba, index=df_test.index, columns=['radiant_win'])"
   ]
  },
  {
   "cell_type": "code",
   "execution_count": 61,
   "metadata": {
    "collapsed": true
   },
   "outputs": [],
   "source": [
    "Submition.to_csv('Submitions_grad.csv')\n",
    "#kaggle 0.69370"
   ]
  },
  {
   "cell_type": "markdown",
   "metadata": {},
   "source": [
    "### Подход 2: логистическая регрессия\n",
    "\n",
    "Линейные методы работают гораздо быстрее композиций деревьев, поэтому кажется разумным воспользоваться именно ими для ускорения анализа данных. Одним из наиболее распространенных методов для классификации является логистическая регрессия.\n",
    "\n",
    "**Важно:** не забывайте, что линейные алгоритмы чувствительны к масштабу признаков! Может пригодиться sklearn.preprocessing.StandartScaler.\n",
    "\n",
    "1. Оцените качество логистической регрессии (sklearn.linear_model.LogisticRegression с L2-регуляризацией) с помощью кросс-валидации по той же схеме, которая использовалась для градиентного бустинга. Подберите при этом лучший параметр регуляризации (C). Какое наилучшее качество у вас получилось? Как оно соотносится с качеством градиентного бустинга? Чем вы можете объяснить эту разницу? Быстрее ли работает логистическая регрессия по сравнению с градиентным бустингом?\n",
    "2. Среди признаков в выборке есть категориальные, которые мы использовали как числовые, что вряд ли является хорошей идеей. Категориальных признаков в этой задаче одиннадцать: lobby_type и r1_hero, r2_hero, ..., r5_hero, d1_hero, d2_hero, ..., d5_hero. Уберите их из выборки, и проведите кросс-валидацию для логистической регрессии на новой выборке с подбором лучшего параметра регуляризации. Изменилось ли качество? Чем вы можете это объяснить?\n",
    "3. На предыдущем шаге мы исключили из выборки признаки rM_hero и dM_hero, которые показывают, какие именно герои играли за каждую команду. Это важные признаки — герои имеют разные характеристики, и некоторые из них выигрывают чаще, чем другие. Выясните из данных, сколько различных идентификаторов героев существует в данной игре (вам может пригодиться фукнция unique или value_counts).\n",
    "4. Воспользуемся подходом \"мешок слов\" для кодирования информации о героях. Пусть всего в игре имеет N различных героев. Сформируем N признаков, при этом i-й будет равен нулю, если i-й герой не участвовал в матче; единице, если i-й герой играл за команду Radiant; минус единице, если i-й герой играл за команду Dire. Ниже вы можете найти код, который выполняет данной преобразование. Добавьте полученные признаки к числовым, которые вы использовали во втором пункте данного этапа.\n",
    "5. Проведите кросс-валидацию для логистической регрессии на новой выборке с подбором лучшего параметра регуляризации. Какое получилось качество? Улучшилось ли оно? Чем вы можете это объяснить?\n",
    "6. Постройте предсказания вероятностей победы команды Radiant для тестовой выборки с помощью лучшей из изученных моделей (лучшей с точки зрения AUC-ROC на кросс-валидации). Убедитесь, что предсказанные вероятности адекватные — находятся на отрезке [0, 1], не совпадают между собой (т.е. что модель не получилась константной).\n",
    "\n",
    "##### Что указать в отчете\n",
    "В отчете по данному этапу вы должны ответить на следующие вопросы:\n",
    "1. Какое качество получилось у логистической регрессии над всеми исходными признаками? Как оно соотносится с качеством градиентного бустинга? Чем вы можете объяснить эту разницу? Быстрее ли работает логистическая регрессия по сравнению с градиентным бустингом?\n",
    "2. Как влияет на качество логистической регрессии удаление категориальных признаков (укажите новое значение метрики качества)? Чем вы можете объяснить это изменение?\n",
    "3. Сколько различных идентификаторов героев существует в данной игре?\n",
    "4. Какое получилось качество при добавлении \"мешка слов\" по героям? Улучшилось ли оно по сравнению с предыдущим вариантом? Чем вы можете это объяснить?\n",
    "5. Какое минимальное и максимальное значение прогноза на тестовой выборке получилось у лучшего из алгоритмов?\n",
    "\n",
    "\n",
    "##### Код для формирования \"мешка слов\" по героям\n",
    "```python\n",
    "# N — количество различных героев в выборке\n",
    "X_pick = np.zeros((data.shape[0], N))\n",
    "\n",
    "for i, match_id in enumerate(data.index):\n",
    "    for p in xrange(5):\n",
    "        X_pick[i, data.ix[match_id, 'r%d_hero' % (p+1)]-1] = 1\n",
    "        X_pick[i, data.ix[match_id, 'd%d_hero' % (p+1)]-1] = -1\n",
    "```"
   ]
  },
  {
   "cell_type": "code",
   "execution_count": 6,
   "metadata": {
    "collapsed": true
   },
   "outputs": [],
   "source": [
    "import time\n",
    "import datetime\n",
    "import numpy as np\n",
    "\n",
    "from sklearn.linear_model import LogisticRegression\n",
    "from sklearn.model_selection import KFold, cross_val_score\n",
    "\n",
    "from sklearn.metrics import roc_curve\n",
    "from sklearn.preprocessing import StandardScaler"
   ]
  },
  {
   "cell_type": "code",
   "execution_count": 121,
   "metadata": {},
   "outputs": [
    {
     "name": "stdout",
     "output_type": "stream",
     "text": [
      "(97230, 102) (17177, 102)\n"
     ]
    }
   ],
   "source": [
    "df = df.fillna(value=0.0)\n",
    "X = df.loc[:,:'dire_first_ward_time']\n",
    "y = df['radiant_win']\n",
    "\n",
    "df_test = df_test.fillna(value=0.0)\n",
    "X_test = df_test.loc[:,:]\n",
    "print(X.shape, X_test.shape)\n",
    "scaler = StandardScaler()\n",
    "\n",
    "X_train_scaled = scaler.fit_transform(X)\n",
    "X_test_scaled = scaler.transform(X_test)"
   ]
  },
  {
   "cell_type": "code",
   "execution_count": 122,
   "metadata": {},
   "outputs": [],
   "source": [
    "kf = KFold(n_splits=5, shuffle=True)\n",
    "\n",
    "\n",
    "def test_model(X,y):\n",
    "    scores =[]\n",
    "    \n",
    "    range_k = np.power(10.0, np.arange(-5, 6))\n",
    "    \n",
    "    for k in range_k:\n",
    "        print('-'*8 + str(k) + '-'*8)\n",
    "        start_time = datetime.datetime.now()\n",
    "        model = LogisticRegression(C=k)\n",
    "        score = cross_val_score(model, X, y, cv=kf, scoring='roc_auc')\n",
    "        print('Time elapsed: '+str( datetime.datetime.now() - start_time))\n",
    "        print(score)\n",
    "        scores.append(np.mean(score))\n",
    "    \n",
    "    Max=max(scores)\n",
    "    Max_index = scores.index(Max)\n",
    "    \n",
    "    return range_k[Max_index], round(Max,3)"
   ]
  },
  {
   "cell_type": "code",
   "execution_count": 123,
   "metadata": {},
   "outputs": [
    {
     "name": "stdout",
     "output_type": "stream",
     "text": [
      "--------1e-05--------\n",
      "Time elapsed: 0:00:03.499116\n",
      "[ 0.69638315  0.69832964  0.69365305  0.69435708  0.69299967]\n",
      "--------0.0001--------\n",
      "Time elapsed: 0:00:05.618428\n",
      "[ 0.70675038  0.71686095  0.70817549  0.71157504  0.71278496]\n",
      "--------0.001--------\n",
      "Time elapsed: 0:00:10.344717\n",
      "[ 0.72076713  0.71770778  0.71087726  0.71512547  0.71587189]\n",
      "--------0.01--------\n",
      "Time elapsed: 0:00:13.927616\n",
      "[ 0.71690022  0.71700821  0.7148096   0.7178491   0.71591466]\n",
      "--------0.1--------\n",
      "Time elapsed: 0:00:14.965193\n",
      "[ 0.71504853  0.72033329  0.72216766  0.70890604  0.71543625]\n",
      "--------1.0--------\n",
      "Time elapsed: 0:00:16.190581\n",
      "[ 0.71648355  0.71112644  0.71812924  0.71823939  0.71857535]\n",
      "--------10.0--------\n",
      "Time elapsed: 0:00:15.466256\n",
      "[ 0.71725459  0.71279004  0.72349897  0.71543691  0.71331731]\n",
      "--------100.0--------\n",
      "Time elapsed: 0:00:14.932920\n",
      "[ 0.71749331  0.7108517   0.71404074  0.7214228   0.71820759]\n",
      "--------1000.0--------\n",
      "Time elapsed: 0:00:16.093580\n",
      "[ 0.71408219  0.72023825  0.71049615  0.72196776  0.71545962]\n",
      "--------10000.0--------\n",
      "Time elapsed: 0:00:16.201296\n",
      "[ 0.72037037  0.71718807  0.71420567  0.71551348  0.71478421]\n",
      "--------100000.0--------\n",
      "Time elapsed: 0:00:15.989108\n",
      "[ 0.71515212  0.71621357  0.7153289   0.71958308  0.7162181 ]\n"
     ]
    }
   ],
   "source": [
    "C, score = test_model(X_train_scaled,y)"
   ]
  },
  {
   "cell_type": "code",
   "execution_count": 124,
   "metadata": {
    "collapsed": true
   },
   "outputs": [],
   "source": [
    "model = LogisticRegression(C=C)\n",
    "model.fit(X_train_scaled,y)\n",
    "\n",
    "y_pred_leinar = model.predict_proba(X_test_scaled)[:,1]"
   ]
  },
  {
   "cell_type": "code",
   "execution_count": 126,
   "metadata": {},
   "outputs": [],
   "source": [
    "Submition_linear = pandas.DataFrame(y_pred_leinar, index=df_test.index, columns=['radiant_win'])\n",
    "Submition_linear.to_csv('LinearSubmit.csv')\n",
    "#kaggle 0.63718"
   ]
  },
  {
   "cell_type": "code",
   "execution_count": 127,
   "metadata": {},
   "outputs": [
    {
     "name": "stdout",
     "output_type": "stream",
     "text": [
      "1.0 0.717\n"
     ]
    }
   ],
   "source": [
    "print(C,score)"
   ]
  },
  {
   "cell_type": "markdown",
   "metadata": {},
   "source": [
    "Наилучшее значение метрики для логистической регрессии равно 0.717, время затраченное на кросс-валидацию 0:00:16, сравнимо по качеству с 100 деревьями, но заметно быстрее (время которосе соответсвует валидации 0:05:44)"
   ]
  },
  {
   "cell_type": "markdown",
   "metadata": {},
   "source": [
    "# Удаление категориальных признаков"
   ]
  },
  {
   "cell_type": "code",
   "execution_count": 117,
   "metadata": {
    "collapsed": true
   },
   "outputs": [],
   "source": [
    "hero = pandas.read_csv('./data/dictionaries/heroes.csv')\n",
    "N = len(hero) # N — количество различных героев в выборке\n",
    "\n",
    "def create_word_bug(data, N = N):\n",
    "    X_pick = np.zeros((data.shape[0], N))\n",
    "\n",
    "    for i, match_id in enumerate(data.index):\n",
    "        for p in range(5):\n",
    "            X_pick[i, data.loc[match_id, 'r%d_hero' % (p+1)]-1] = 1\n",
    "            X_pick[i, data.loc[match_id, 'd%d_hero' % (p+1)]-1] = -1\n",
    "    \n",
    "    return X_pick"
   ]
  },
  {
   "cell_type": "code",
   "execution_count": 118,
   "metadata": {},
   "outputs": [],
   "source": [
    "x_bug = create_word_bug(df)\n",
    "x_bug_test = create_word_bug(df_test)"
   ]
  },
  {
   "cell_type": "code",
   "execution_count": 128,
   "metadata": {},
   "outputs": [
    {
     "data": {
      "text/plain": [
       "((97230, 112), (17177, 112))"
      ]
     },
     "execution_count": 128,
     "metadata": {},
     "output_type": "execute_result"
    }
   ],
   "source": [
    "x_bug.shape, x_bug_test.shape"
   ]
  },
  {
   "cell_type": "code",
   "execution_count": 129,
   "metadata": {
    "collapsed": true
   },
   "outputs": [],
   "source": [
    "del_col = ['lobby_type','r1_hero', 'r2_hero', 'r3_hero', 'r4_hero', 'r5_hero', \n",
    "           'd1_hero', 'd2_hero', 'd3_hero', 'd4_hero', 'd5_hero']\n",
    "\n",
    "for x in del_col:\n",
    "    del df[x]\n",
    "    del df_test[x]"
   ]
  },
  {
   "cell_type": "code",
   "execution_count": 130,
   "metadata": {},
   "outputs": [
    {
     "name": "stdout",
     "output_type": "stream",
     "text": [
      "(17177, 91) (97230, 91)\n"
     ]
    }
   ],
   "source": [
    "df = df.fillna(value=0.0)\n",
    "\n",
    "X_without_categ = df.loc[:,:'dire_first_ward_time']\n",
    "\n",
    "y_without_categ = df['radiant_win']\n",
    "\n",
    "df_test = df_test.fillna(value=0.0)\n",
    "X_without_categ_test = df_test.loc[:,:]\n",
    "\n",
    "print(X_without_categ_test.shape, X_without_categ.shape)\n",
    "scaler = StandardScaler()\n",
    "\n",
    "X1_train_scaled = scaler.fit_transform(X_without_categ)\n",
    "X1_test_scaled = scaler.transform(X_without_categ_test)"
   ]
  },
  {
   "cell_type": "code",
   "execution_count": 131,
   "metadata": {},
   "outputs": [
    {
     "name": "stdout",
     "output_type": "stream",
     "text": [
      "--------1e-05--------\n",
      "Time elapsed: 0:00:03.554297\n",
      "[ 0.7008397   0.6947501   0.69248264  0.69278337  0.69474459]\n",
      "--------0.0001--------\n",
      "Time elapsed: 0:00:05.805863\n",
      "[ 0.71944459  0.70763148  0.70918657  0.70719668  0.71285565]\n",
      "--------0.001--------\n",
      "Time elapsed: 0:00:11.241876\n",
      "[ 0.71653413  0.7163499   0.71326101  0.71400065  0.72054755]\n",
      "--------0.01--------\n",
      "Time elapsed: 0:00:15.328547\n",
      "[ 0.71610883  0.71293029  0.71488506  0.71929416  0.71814613]\n",
      "--------0.1--------\n",
      "Time elapsed: 0:00:15.088820\n",
      "[ 0.71340627  0.72524193  0.71554902  0.71632181  0.71234652]\n",
      "--------1.0--------\n",
      "Time elapsed: 0:00:16.536643\n",
      "[ 0.71813453  0.71693712  0.71759667  0.71586333  0.71397463]\n",
      "--------10.0--------\n",
      "Time elapsed: 0:00:15.207366\n",
      "[ 0.71508663  0.71782233  0.71764414  0.71914889  0.71147369]\n",
      "--------100.0--------\n",
      "Time elapsed: 0:00:16.570414\n",
      "[ 0.72130242  0.71360031  0.71481799  0.71669379  0.71596055]\n",
      "--------1000.0--------\n",
      "Time elapsed: 0:00:14.787248\n",
      "[ 0.71403433  0.72056381  0.71682097  0.71552982  0.7150674 ]\n",
      "--------10000.0--------\n",
      "Time elapsed: 0:00:14.105399\n",
      "[ 0.70810988  0.71648803  0.7191853   0.72323235  0.71483064]\n",
      "--------100000.0--------\n",
      "Time elapsed: 0:00:16.173176\n",
      "[ 0.71889218  0.7134157   0.71433508  0.72259067  0.71214091]\n",
      "0.1 0.717\n"
     ]
    }
   ],
   "source": [
    "kf = KFold(n_splits=5, shuffle=True)\n",
    "\n",
    "C, score = test_model(X1_train_scaled,y1)\n",
    "print(C,score)"
   ]
  },
  {
   "cell_type": "code",
   "execution_count": 132,
   "metadata": {
    "collapsed": true
   },
   "outputs": [],
   "source": [
    "model = LogisticRegression(C=C)\n",
    "model.fit(X1_train_scaled,y1)\n",
    "\n",
    "y_pred_leinar = model.predict_proba(X1_test_scaled)[:,1]"
   ]
  },
  {
   "cell_type": "code",
   "execution_count": 133,
   "metadata": {},
   "outputs": [],
   "source": [
    "Submition_linear = pandas.DataFrame(y_pred_leinar, index=df_test.index, columns=['radiant_win'])\n",
    "Submition_linear.to_csv('LinearSubmit.csv')\n",
    "#kaggle 0.63718"
   ]
  },
  {
   "cell_type": "markdown",
   "metadata": {
    "collapsed": true
   },
   "source": [
    "Удаление категориальных признаков не привело к улучшению предсказания.Можно сделать вывод, что категореальные признаки не влияли на предсказание. Наилучшее значение метрики ROC-AUC 0.717, С = 0.1\n"
   ]
  },
  {
   "cell_type": "markdown",
   "metadata": {},
   "source": [
    "# Создание мешка слов"
   ]
  },
  {
   "cell_type": "code",
   "execution_count": 138,
   "metadata": {},
   "outputs": [
    {
     "data": {
      "text/plain": [
       "((17177, 203), (97230, 203))"
      ]
     },
     "execution_count": 138,
     "metadata": {},
     "output_type": "execute_result"
    }
   ],
   "source": [
    "scaler = StandardScaler()\n",
    "X_bug = np.hstack((X_without_categ, x_bug))\n",
    "X_bug_test = np.hstack((X_without_categ_test, x_bug_test))\n",
    "x_word_bug = scaler.fit_transform(X_bug)\n",
    "x_word_bug_tes = scaler.transform(X_bug_test)\n",
    "x_word_bug_tes.shape,x_word_bug.shape"
   ]
  },
  {
   "cell_type": "code",
   "execution_count": 136,
   "metadata": {},
   "outputs": [
    {
     "name": "stdout",
     "output_type": "stream",
     "text": [
      "--------1e-05--------\n",
      "Time elapsed: 0:00:05.211843\n",
      "[ 0.71194391  0.71434461  0.71201654  0.71917776  0.71717338]\n",
      "--------0.0001--------\n",
      "Time elapsed: 0:00:18.056795\n",
      "[ 0.74088324  0.73507826  0.75059652  0.74735374  0.73989686]\n",
      "--------0.001--------\n",
      "Time elapsed: 0:00:16.938735\n",
      "[ 0.74762696  0.75004275  0.7513205   0.75563464  0.75310365]\n",
      "--------0.01--------\n",
      "Time elapsed: 0:00:23.914411\n",
      "[ 0.75178738  0.75103508  0.75180647  0.75221462  0.75209782]\n",
      "--------0.1--------\n",
      "Time elapsed: 0:00:25.758643\n",
      "[ 0.75151209  0.75433006  0.75528228  0.75195363  0.74536417]\n",
      "--------1.0--------\n",
      "Time elapsed: 0:00:25.528520\n",
      "[ 0.7545011   0.74668174  0.74891679  0.75117027  0.75731644]\n",
      "--------10.0--------\n",
      "Time elapsed: 0:00:25.301033\n",
      "[ 0.75021506  0.75030287  0.75223479  0.75560214  0.75170446]\n",
      "--------100.0--------\n",
      "Time elapsed: 0:00:25.289009\n",
      "[ 0.74940624  0.7538987   0.75588906  0.75357628  0.74655568]\n",
      "--------1000.0--------\n",
      "Time elapsed: 0:00:25.369614\n",
      "[ 0.75321718  0.75168536  0.75054132  0.74829089  0.75516754]\n",
      "--------10000.0--------\n",
      "Time elapsed: 0:00:25.650875\n",
      "[ 0.75284746  0.75106488  0.75497297  0.74889292  0.75070647]\n",
      "--------100000.0--------\n",
      "Time elapsed: 0:00:25.313620\n",
      "[ 0.74916977  0.7447005   0.75393069  0.75687832  0.75395253]\n",
      "10.0 0.752\n"
     ]
    }
   ],
   "source": [
    "kf = KFold(n_splits=5, shuffle=True)\n",
    "\n",
    "C, score = test_model(x_word_bug,y1)\n",
    "print(C,score)"
   ]
  },
  {
   "cell_type": "code",
   "execution_count": 139,
   "metadata": {},
   "outputs": [],
   "source": [
    "model = LogisticRegression(C=C)\n",
    "model.fit(x_word_bug, y1)\n",
    "\n",
    "y_pred_leinar_word_bug = model.predict_proba(x_word_bug_tes)[:,1]"
   ]
  },
  {
   "cell_type": "code",
   "execution_count": 140,
   "metadata": {
    "collapsed": true
   },
   "outputs": [],
   "source": [
    "Submition_linear_bug = pandas.DataFrame(y_pred_leinar_word_bug, index=df_test.index, columns=['radiant_win'])\n",
    "Submition_linear_bug.to_csv('Submition_linear_bug.csv')\n",
    "#kaggle 0.75528"
   ]
  },
  {
   "cell_type": "markdown",
   "metadata": {},
   "source": [
    "Добавление мешка слов улучшает качество предсказния модели результат на kaggle 0.75528 что выше по сравнению с предыдущими результатами (<0.7). Дання модель имеет наилучшее занчение метрики ROC-AUC при С = 10.0 , 0.752. Наихудшее значение метрики полученно для градиентного бустинга 0,71"
   ]
  },
  {
   "cell_type": "code",
   "execution_count": null,
   "metadata": {
    "collapsed": true
   },
   "outputs": [],
   "source": []
  }
 ],
 "metadata": {
  "anaconda-cloud": {},
  "kernelspec": {
   "display_name": "Python 3",
   "language": "python",
   "name": "python3"
  },
  "language_info": {
   "codemirror_mode": {
    "name": "ipython",
    "version": 3
   },
   "file_extension": ".py",
   "mimetype": "text/x-python",
   "name": "python",
   "nbconvert_exporter": "python",
   "pygments_lexer": "ipython3",
   "version": "3.6.1"
  }
 },
 "nbformat": 4,
 "nbformat_minor": 1
}

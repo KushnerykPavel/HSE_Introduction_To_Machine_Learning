{
 "cells": [
  {
   "cell_type": "code",
   "execution_count": 1,
   "metadata": {
    "collapsed": true
   },
   "outputs": [],
   "source": [
    "import numpy as np\n",
    "import pandas as pd\n",
    "import matplotlib.pyplot as plt\n",
    "import seaborn\n",
    "from sklearn.tree import DecisionTreeClassifier\n",
    "from sklearn.preprocessing import StandardScaler"
   ]
  },
  {
   "cell_type": "code",
   "execution_count": 2,
   "metadata": {
    "collapsed": true
   },
   "outputs": [],
   "source": [
    "'''\n",
    "    1. Загрузите выборку из файла titanic.csv с помощью пакета Pandas.\n",
    "'''\n",
    "\n",
    "df = pd.read_csv('titanic.csv', index_col='PassengerId')"
   ]
  },
  {
   "cell_type": "code",
   "execution_count": 4,
   "metadata": {
    "collapsed": true
   },
   "outputs": [],
   "source": [
    "'''\n",
    "    2.Оставьте в выборке четыре признака: класс пассажира (Pclass), \n",
    "    цену билета (Fare), возраст пассажира (Age) и его пол (Sex).\n",
    "'''\n",
    "\n",
    "x_labels = ['Pclass','Fare','Age','Sex']\n",
    "X = df.loc[:,x_labels]\n",
    "\n",
    "'''\n",
    "    3. Обратите внимание, что признак Sex имеет строковые значения.\n",
    "'''\n",
    "\n",
    "X['Sex'] = X['Sex'].map(lambda sex: 1 if sex == 'male' else 0)\n",
    "\n",
    "\n",
    "'''\n",
    "    4.Выделите целевую переменную — она записана в столбце Survived.\n",
    "'''\n",
    "\n",
    "y = df['Survived']\n",
    "    \n",
    "'''\n",
    "    5.В данных есть пропущенные значения — например, для некоторых пассажиров\n",
    "    неизвестен их возраст. Такие записи при чтении их в pandas принимают значение nan.\n",
    "    Найдите все объекты, у которых есть пропущенные признаки, и удалите их из выборки.\n",
    "'''   \n",
    "    \n",
    "X = X.dropna()\n",
    "y = y[X.index.values]"
   ]
  },
  {
   "cell_type": "code",
   "execution_count": 5,
   "metadata": {
    "collapsed": false
   },
   "outputs": [
    {
     "data": {
      "text/plain": [
       "DecisionTreeClassifier(class_weight=None, criterion='gini', max_depth=None,\n",
       "            max_features=None, max_leaf_nodes=None,\n",
       "            min_impurity_split=1e-07, min_samples_leaf=1,\n",
       "            min_samples_split=2, min_weight_fraction_leaf=0.0,\n",
       "            presort=False, random_state=241, splitter='best')"
      ]
     },
     "execution_count": 5,
     "metadata": {},
     "output_type": "execute_result"
    }
   ],
   "source": [
    "'''\n",
    "    6.Обучите решающее дерево с параметром random_state=241 и остальными параметрами по умолчанию\n",
    "    (речь идет о параметрах конструктора DecisionTreeСlassifier).\n",
    "'''\n",
    "\n",
    "clf = DecisionTreeClassifier(random_state=241)\n",
    "clf.fit(np.array(X), np.array(y))"
   ]
  },
  {
   "cell_type": "code",
   "execution_count": 6,
   "metadata": {
    "collapsed": false
   },
   "outputs": [],
   "source": [
    "'''\n",
    "    7.Вычислите важности признаков и найдите два признака с наибольшей важностью. Их названия будут\n",
    "    ответами для данной задачи (в качестве ответа укажите названия признаков через \n",
    "    запятую или пробел, порядок не важен).\n",
    "'''\n",
    "\n",
    "importances = pd.Series(clf.feature_importances_, index=x_labels)\n",
    "ans=importances.sort_values(ascending=False).index.values"
   ]
  },
  {
   "cell_type": "code",
   "execution_count": null,
   "metadata": {
    "collapsed": true
   },
   "outputs": [],
   "source": []
  }
 ],
 "metadata": {
  "anaconda-cloud": {},
  "kernelspec": {
   "display_name": "Python [conda root]",
   "language": "python",
   "name": "conda-root-py"
  },
  "language_info": {
   "codemirror_mode": {
    "name": "ipython",
    "version": 3
   },
   "file_extension": ".py",
   "mimetype": "text/x-python",
   "name": "python",
   "nbconvert_exporter": "python",
   "pygments_lexer": "ipython3",
   "version": "3.5.2"
  }
 },
 "nbformat": 4,
 "nbformat_minor": 1
}

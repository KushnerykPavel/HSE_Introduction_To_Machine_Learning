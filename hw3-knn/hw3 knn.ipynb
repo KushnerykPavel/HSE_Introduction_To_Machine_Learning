{
 "cells": [
  {
   "cell_type": "code",
   "execution_count": 1,
   "metadata": {
    "collapsed": false
   },
   "outputs": [],
   "source": [
    "import pandas as pd\n",
    "import numpy as np\n",
    "from sklearn.model_selection import KFold, cross_val_score\n",
    "from sklearn.neighbors import KNeighborsClassifier\n",
    "from sklearn.preprocessing import scale"
   ]
  },
  {
   "cell_type": "code",
   "execution_count": 2,
   "metadata": {
    "collapsed": false
   },
   "outputs": [],
   "source": [
    "'''\n",
    "    1.Загрузите выборку Wine по адресу \n",
    "    https://archive.ics.uci.edu/ml/machine-learning-databases/wine/wine.data \n",
    "    \n",
    "    2.Извлеките из данных признаки и классы. Класс записан в первом столбце (три варианта), \n",
    "    признаки — в столбцах со второго по последний. Более подробно о сути признаков можно прочитать по адресу\n",
    "    https://archive.ics.uci.edu/ml/datasets/Wine (см. также файл wine.names, приложенный к заданию)\n",
    "'''\n",
    "\n",
    "df = pd.read_csv(\"wine.data\", header=None)"
   ]
  },
  {
   "cell_type": "code",
   "execution_count": 10,
   "metadata": {
    "collapsed": false
   },
   "outputs": [],
   "source": [
    "'''\n",
    "    3.Оценку качества необходимо провести методом кросс-валидации по 5 блокам (5-fold). \n",
    "    Создайте генератор разбиений, который перемешивает выборку перед формированием блоков (shuffle=True).\n",
    "    Для воспроизводимости результата, создавайте генератор KFold с фиксированным параметром random_state=42.\n",
    "    В качестве меры качества используйте долю верных ответов (accuracy).\n",
    "'''\n",
    "\n",
    "kf = KFold(n_splits=5,shuffle=True,random_state=42)"
   ]
  },
  {
   "cell_type": "code",
   "execution_count": 12,
   "metadata": {
    "collapsed": false
   },
   "outputs": [],
   "source": [
    "X = df.loc[:,1:]\n",
    "y = df[0]"
   ]
  },
  {
   "cell_type": "code",
   "execution_count": 13,
   "metadata": {
    "collapsed": true
   },
   "outputs": [],
   "source": [
    "'''\n",
    "    4.Найдите точность классификации на кросс-валидации для метода k ближайших соседей\n",
    "    (sklearn.neighbors.KNeighborsClassifier), при k от 1 до 50. При каком k получилось оптимальное качество? \n",
    "    Чему оно равно (число в интервале от 0 до 1)? Данные результаты и будут ответами на вопросы 1 и 2.\n",
    "'''\n",
    "\n",
    "ans = []\n",
    "for i in range(1,50):\n",
    "    neigh = KNeighborsClassifier(n_neighbors=i)\n",
    "    ans.append(cross_val_score(neigh,np.array(X),np.array(y),cv=kf.split(np.array(X),np.array(y)),scoring='accuracy').mean())"
   ]
  },
  {
   "cell_type": "code",
   "execution_count": 14,
   "metadata": {
    "collapsed": true
   },
   "outputs": [],
   "source": [
    "'''\n",
    "    5.Произведите масштабирование признаков с помощью функции sklearn.preprocessing.scale. \n",
    "    Снова найдите оптимальное k на кросс-валидации.\n",
    "    \n",
    "    6.Какое значение k получилось оптимальным после приведения признаков к одному масштабу?\n",
    "    Приведите ответы на вопросы 3 и 4. Помогло ли масштабирование признаков?\n",
    "'''\n",
    "\n",
    "\n",
    "ans1 = []\n",
    "for i in range(1,50):\n",
    "    neigh = KNeighborsClassifier(n_neighbors=i)\n",
    "    ans1.append(cross_val_score(neigh,scale(np.array(X),axis=0),np.array(y),\n",
    "                                cv=kf.split(np.array(X),np.array(y)),scoring='accuracy').mean())"
   ]
  },
  {
   "cell_type": "code",
   "execution_count": 15,
   "metadata": {
    "collapsed": false
   },
   "outputs": [
    {
     "data": {
      "text/plain": [
       "(29, 0.97999999999999998)"
      ]
     },
     "execution_count": 15,
     "metadata": {},
     "output_type": "execute_result"
    }
   ],
   "source": [
    "ans1.index(max(ans1))+1, np.round(max(ans1),2)"
   ]
  },
  {
   "cell_type": "code",
   "execution_count": 16,
   "metadata": {
    "collapsed": false
   },
   "outputs": [
    {
     "data": {
      "text/plain": [
       "(1, 0.72999999999999998)"
      ]
     },
     "execution_count": 16,
     "metadata": {},
     "output_type": "execute_result"
    }
   ],
   "source": [
    "ans.index(max(ans))+1, round(max(ans),2)"
   ]
  }
 ],
 "metadata": {
  "anaconda-cloud": {},
  "kernelspec": {
   "display_name": "Python [conda root]",
   "language": "python",
   "name": "conda-root-py"
  },
  "language_info": {
   "codemirror_mode": {
    "name": "ipython",
    "version": 3
   },
   "file_extension": ".py",
   "mimetype": "text/x-python",
   "name": "python",
   "nbconvert_exporter": "python",
   "pygments_lexer": "ipython3",
   "version": "3.5.2"
  }
 },
 "nbformat": 4,
 "nbformat_minor": 1
}

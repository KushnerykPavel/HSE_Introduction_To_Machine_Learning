{
 "cells": [
  {
   "cell_type": "code",
   "execution_count": 1,
   "metadata": {
    "collapsed": false
   },
   "outputs": [],
   "source": [
    "import numpy as np\n",
    "\n",
    "from sklearn.datasets import load_boston\n",
    "from sklearn.preprocessing import scale\n",
    "from sklearn.model_selection import KFold, cross_val_score\n",
    "from sklearn.neighbors import KNeighborsRegressor\n",
    "from sklearn.neighbors import DistanceMetric"
   ]
  },
  {
   "cell_type": "code",
   "execution_count": 2,
   "metadata": {
    "collapsed": true
   },
   "outputs": [],
   "source": [
    "'''\n",
    "    1. Загрузите выборку Boston с помощью функции sklearn.datasets.load_boston().\n",
    "    Результатом вызова данной функции является объект, у которого признаки записаны в поле data,\n",
    "    а целевой вектор — в поле target.\n",
    "'''\n",
    "\n",
    "boston = load_boston()"
   ]
  },
  {
   "cell_type": "code",
   "execution_count": 3,
   "metadata": {
    "collapsed": false
   },
   "outputs": [],
   "source": [
    "'''\n",
    "    2. Приведите признаки в выборке к одному масштабу при помощи функции \n",
    "    sklearn.preprocessing.scale.\n",
    "    \n",
    "    3.Переберите разные варианты параметра метрики p по сетке от 1 до 10 с таким шагом,\n",
    "    чтобы всего было протестировано 200 вариантов (используйте функцию numpy.linspace). \n",
    "    Используйте KNeighborsRegressor с n_neighbors=5 и weights='distance' — данный \n",
    "    параметр добавляет в алгоритм веса, зависящие от расстояния до ближайших соседей.\n",
    "    В качестве метрики качества используйте среднеквадратичную ошибку (параметр\n",
    "    scoring='mean_squared_error' у cross_val_score; при использовании библиотеки \n",
    "    scikit-learn версии 0.18.1 и выше необходимо указывать scoring='neg_mean_squared_error').\n",
    "    Качество оценивайте, как и в предыдущем задании, с помощью кросс-валидации по 5 блокам с \n",
    "    random_state = 42, не забудьте включить перемешивание выборки (shuffle=True).\n",
    "'''\n",
    "\n",
    "\n",
    "dist = np.linspace(1,10,num=200)\n",
    "result = []\n",
    "kf = KFold(n_splits=5, shuffle=True, random_state=42)\n",
    "for i in dist:\n",
    "    neigh = KNeighborsRegressor(p=i, n_neighbors=5, weights='distance', metric='minkowski')\n",
    "    result.append(cross_val_score(neigh , scale(boston.data),boston.target,\n",
    "                cv=kf, scoring='neg_mean_squared_error').mean())"
   ]
  },
  {
   "cell_type": "code",
   "execution_count": 6,
   "metadata": {
    "collapsed": false
   },
   "outputs": [
    {
     "data": {
      "text/plain": [
       "1.0"
      ]
     },
     "execution_count": 6,
     "metadata": {},
     "output_type": "execute_result"
    }
   ],
   "source": [
    "'''\n",
    "    4. Определите, при каком p качество на кросс-валидации оказалось оптимальным. \n",
    "    Обратите внимание, что cross_val_score возвращает массив показателей качества по блокам; \n",
    "    необходимо максимизировать среднее этих показателей. \n",
    "    Это значение параметра и будет ответом на задачу.\n",
    "'''\n",
    "\n",
    "1 + result.index(max(result))/200"
   ]
  },
  {
   "cell_type": "code",
   "execution_count": null,
   "metadata": {
    "collapsed": true
   },
   "outputs": [],
   "source": []
  }
 ],
 "metadata": {
  "anaconda-cloud": {},
  "kernelspec": {
   "display_name": "Python [conda root]",
   "language": "python",
   "name": "conda-root-py"
  },
  "language_info": {
   "codemirror_mode": {
    "name": "ipython",
    "version": 3
   },
   "file_extension": ".py",
   "mimetype": "text/x-python",
   "name": "python",
   "nbconvert_exporter": "python",
   "pygments_lexer": "ipython3",
   "version": "3.5.2"
  }
 },
 "nbformat": 4,
 "nbformat_minor": 1
}

{
 "cells": [
  {
   "cell_type": "code",
   "execution_count": 1,
   "metadata": {
    "collapsed": false
   },
   "outputs": [],
   "source": [
    "import pandas as pd\n",
    "import numpy as np\n",
    "from sklearn.linear_model import Perceptron\n",
    "from sklearn.metrics import accuracy_score\n",
    "from sklearn.preprocessing import StandardScaler"
   ]
  },
  {
   "cell_type": "code",
   "execution_count": 2,
   "metadata": {
    "collapsed": false
   },
   "outputs": [],
   "source": [
    "'''\n",
    "    1. Загрузите обучающую и тестовую выборки из файлов perceptron-train.csv и perceptron-test.csv. \n",
    "    Целевая переменная записана в первом столбце, признаки — во втором и третьем.\n",
    "'''\n",
    "\n",
    "test = pd.read_csv('perceptron-test.csv', names=['y','X1','X2'])\n",
    "train = pd.read_csv('perceptron-train.csv', names=['y','X1','X2'])\n",
    "\n",
    "X = train.loc[:, ['X1','X2']]\n",
    "y = train['y']\n",
    "\n",
    "X_test = test.loc[:, ['X1','X2']]\n",
    "y_test = test['y']"
   ]
  },
  {
   "cell_type": "code",
   "execution_count": 93,
   "metadata": {
    "collapsed": false
   },
   "outputs": [],
   "source": [
    "'''\n",
    "    2. Обучите персептрон со стандартными параметрами и random_state=241.\n",
    "'''\n",
    "\n",
    "clf = Perceptron(random_state=241)\n",
    "\n",
    "clf.fit(np.array(X), np.array(y))\n",
    "y_pred = clf.predict(X_test)"
   ]
  },
  {
   "cell_type": "code",
   "execution_count": 94,
   "metadata": {
    "collapsed": false
   },
   "outputs": [],
   "source": [
    "'''\n",
    "    3. Подсчитайте качество (долю правильно классифицированных объектов, accuracy)\n",
    "    полученного классификатора на тестовой выборке.\n",
    "'''\n",
    "\n",
    "answer = accuracy_score(y_test, y_pred)"
   ]
  },
  {
   "cell_type": "code",
   "execution_count": 95,
   "metadata": {
    "collapsed": true
   },
   "outputs": [],
   "source": [
    "'''\n",
    "    4.Нормализуйте обучающую и тестовую выборку с помощью класса StandardScaler.\n",
    "'''\n",
    "\n",
    "scaler = StandardScaler()\n",
    "\n",
    "'''\n",
    "    Функция fit_transform данного класса находит параметры нормализации (средние и дисперсии каждого признака) по выборке, \n",
    "    и сразу же делает нормализацию выборки с использованием этих параметров.\n",
    "    Функция transform делает нормализацию на основе уже найденных параметров.\n",
    "'''\n",
    "\n",
    "X_train_scaled = scaler.fit_transform(X)\n",
    "X_test_scaled = scaler.transform(X_test)"
   ]
  },
  {
   "cell_type": "code",
   "execution_count": 96,
   "metadata": {
    "collapsed": false
   },
   "outputs": [],
   "source": [
    "'''\n",
    "    5.Обучите персептрон на новой выборке. Найдите долю правильных ответов на тестовой выборке.\n",
    "'''\n",
    "\n",
    "clf = Perceptron(random_state=241)\n",
    "\n",
    "clf.fit(np.array(X_train_scaled), np.array(y))\n",
    "y_pred_scaled = clf.predict(X_test_scaled)\n",
    "\n",
    "answer_scale = accuracy_score(y_test, y_pred_scaled)"
   ]
  },
  {
   "cell_type": "code",
   "execution_count": 98,
   "metadata": {
    "collapsed": false
   },
   "outputs": [
    {
     "data": {
      "text/plain": [
       "0.19"
      ]
     },
     "execution_count": 98,
     "metadata": {},
     "output_type": "execute_result"
    }
   ],
   "source": [
    "'''\n",
    "    6.Найдите разность между качеством на тестовой выборке после нормализации и качеством до нее. \n",
    "    Это число и будет ответом на задание.\n",
    "'''\n",
    "\n",
    "round(answer_scale - answer ,3)"
   ]
  },
  {
   "cell_type": "code",
   "execution_count": null,
   "metadata": {
    "collapsed": true
   },
   "outputs": [],
   "source": []
  }
 ],
 "metadata": {
  "anaconda-cloud": {},
  "kernelspec": {
   "display_name": "Python [conda root]",
   "language": "python",
   "name": "conda-root-py"
  },
  "language_info": {
   "codemirror_mode": {
    "name": "ipython",
    "version": 3
   },
   "file_extension": ".py",
   "mimetype": "text/x-python",
   "name": "python",
   "nbconvert_exporter": "python",
   "pygments_lexer": "ipython3",
   "version": "3.5.2"
  }
 },
 "nbformat": 4,
 "nbformat_minor": 1
}

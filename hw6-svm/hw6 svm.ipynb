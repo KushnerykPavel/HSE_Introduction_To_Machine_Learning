{
 "cells": [
  {
   "cell_type": "code",
   "execution_count": 1,
   "metadata": {
    "collapsed": true
   },
   "outputs": [],
   "source": [
    "import pandas as pd\n",
    "import numpy as np\n",
    "from sklearn.svm import SVC"
   ]
  },
  {
   "cell_type": "code",
   "execution_count": 2,
   "metadata": {
    "collapsed": false
   },
   "outputs": [],
   "source": [
    "'''\n",
    "    1. Загрузите выборку из файла svm-data.csv. В нем записана двумерная выборка (целевая переменная\n",
    "    указана в первом столбце, признаки — во втором и третьем).\n",
    "'''\n",
    "\n",
    "df = pd.read_csv('svm-data.csv',header=None)\n",
    "\n",
    "X = np.array(df.loc[:,1:])\n",
    "y = np.array(df[0])"
   ]
  },
  {
   "cell_type": "code",
   "execution_count": 12,
   "metadata": {
    "collapsed": false
   },
   "outputs": [],
   "source": [
    "'''\n",
    "    2. Обучите классификатор с линейным ядром, параметром C = 100000 и random_state=241. Такое значение\n",
    "    параметра нужно использовать, чтобы убедиться, что SVM работает с выборкой как с линейно разделимой. \n",
    "    При более низких значениях параметра алгоритм будет настраиваться с учетом слагаемого в функционале,\n",
    "    штрафующего за маленькие отступы, из-за чего результат может не совпасть с решением классической задачи \n",
    "    SVM для линейно разделимой выборки.\n",
    "'''\n",
    "\n",
    "clf = SVC(C=100000 , random_state=241 , kernel='linear')"
   ]
  },
  {
   "cell_type": "code",
   "execution_count": 16,
   "metadata": {
    "collapsed": false
   },
   "outputs": [
    {
     "data": {
      "text/plain": [
       "array([3, 4, 9])"
      ]
     },
     "execution_count": 16,
     "metadata": {},
     "output_type": "execute_result"
    }
   ],
   "source": [
    "'''\n",
    "    3.Найдите номера объектов, которые являются опорными (нумерация с единицы). Они будут являться ответом\n",
    "    на задание. Обратите внимание, что в качестве ответа нужно привести номера объектов в возрастающем \n",
    "    порядке через запятую или пробел. Нумерация начинается с 1.\n",
    "'''\n",
    "\n",
    "clf.support_"
   ]
  }
 ],
 "metadata": {
  "anaconda-cloud": {},
  "kernelspec": {
   "display_name": "Python [conda root]",
   "language": "python",
   "name": "conda-root-py"
  },
  "language_info": {
   "codemirror_mode": {
    "name": "ipython",
    "version": 3
   },
   "file_extension": ".py",
   "mimetype": "text/x-python",
   "name": "python",
   "nbconvert_exporter": "python",
   "pygments_lexer": "ipython3",
   "version": "3.5.2"
  }
 },
 "nbformat": 4,
 "nbformat_minor": 1
}

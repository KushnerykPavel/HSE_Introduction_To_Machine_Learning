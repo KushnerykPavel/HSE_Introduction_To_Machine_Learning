{
 "cells": [
  {
   "cell_type": "code",
   "execution_count": 17,
   "metadata": {
    "collapsed": false
   },
   "outputs": [],
   "source": [
    "import numpy as np\n",
    "import pandas as pd\n",
    "\n",
    "from sklearn.metrics import roc_auc_score"
   ]
  },
  {
   "cell_type": "code",
   "execution_count": 18,
   "metadata": {
    "collapsed": true
   },
   "outputs": [],
   "source": [
    "'''\n",
    "    1. Загрузите данные из файла data-logistic.csv. Это двумерная выборка, \n",
    "    целевая переменная на которой принимает значения -1 или 1.\n",
    "'''\n",
    "\n",
    "df = pd.read_csv('data-logistic.csv', header=None)"
   ]
  },
  {
   "cell_type": "code",
   "execution_count": 5,
   "metadata": {
    "collapsed": false
   },
   "outputs": [],
   "source": [
    "'''\n",
    "    2. Убедитесь, что выше выписаны правильные формулы для градиентного спуска.\n",
    "    Обратите внимание, что мы используем полноценный градиентный спуск, а не его стохастический вариант!\n",
    "    \n",
    "    3. Реализуйте градиентный спуск для обычной и L2-регуляризованной (с коэффициентом регуляризации 10)\n",
    "    логистической регрессии. Используйте длину шага k=0.1. В качестве начального \n",
    "    приближения используйте вектор (0, 0).\n",
    "'''\n",
    "\n",
    "\n",
    "def gradient_descent(x1, x2 , y, k=0.01, C=10, max_iter=1e6):\n",
    "    \n",
    "    '''\n",
    "        C - Сила регуляризации\n",
    "        k - размер шага.\n",
    "        max_iter - граничное число итераций алгоритма\n",
    "    '''\n",
    "    \n",
    "    w1, w2, w1_new, w2_new, w1_temp, w2_temp = 0, 0, 1e5, 1e5, 0, 0\n",
    "    sum_w1, sum_w2 = 0, 0\n",
    "    eps = 1e-5\n",
    "    iteration =0\n",
    "    l = len(x1)\n",
    "    \n",
    "    while abs(w1 - w1_new) > eps and abs(w2 - w2_new) > eps and iteration != max_iter:\n",
    "        \n",
    "        w1, w2 = w1_temp, w2_temp\n",
    "        iteration+=1\n",
    "        for i in range(l):\n",
    "            \n",
    "            sum_w1 += y[i]*x1[i]*(1 - 1/(1 + np.exp(-y[i]*(w1*x1[i] + w2*x2[i]))))\n",
    "            sum_w2 += y[i]*x2[i]*(1 - 1/(1 + np.exp(-y[i]*(w1*x1[i] + w2*x2[i]))))\n",
    "    \n",
    "        w1_temp = w1 + (k/l)*sum_w1 - k*C*w1\n",
    "        w2_temp = w2 + (k/l)*sum_w2 - k*C*w2\n",
    "        \n",
    "        w1_new, w2_new = w1_temp, w2_temp\n",
    "    \n",
    "    return w1_new, w2_new"
   ]
  },
  {
   "cell_type": "code",
   "execution_count": 15,
   "metadata": {
    "collapsed": false
   },
   "outputs": [],
   "source": [
    "'''\n",
    "    4. Запустите градиентный спуск и доведите до сходимости (евклидово расстояние между векторами весов на \n",
    "    соседних итерациях должно быть не больше 1e-5). Рекомендуется ограничить сверху число итераций десятью тысячами.\n",
    "'''\n",
    "\n",
    "W1, W2 = gradient_descent(df[0],df[1],df[2],C=100,k=0.01)\n",
    "\n",
    "A = [1 / (1 + np.exp(-(W1*df[1][i] + W2*df[2][i]))) for i in df.index]"
   ]
  },
  {
   "cell_type": "code",
   "execution_count": 16,
   "metadata": {
    "collapsed": false
   },
   "outputs": [
    {
     "name": "stdout",
     "output_type": "stream",
     "text": [
      "0.93\n"
     ]
    }
   ],
   "source": [
    "'''\n",
    "    5. Какое значение принимает AUC-ROC на обучении без регуляризации и при ее использовании? Эти величины будут \n",
    "    ответом на задание. В качестве ответа приведите два числа через пробел. Обратите внимание, что на вход функции\n",
    "    roc_auc_score нужно подавать оценки вероятностей, подсчитанные обученным алгоритмом. Для этого воспользуйтесь\n",
    "    сигмоидной функцией: a(x) = 1 / (1 + exp(-w1 x1 - w2 x2)).\n",
    "'''\n",
    "\n",
    "print(np.round(roc_auc_score(np.array(df[0]), np.array(A)),2))"
   ]
  },
  {
   "cell_type": "code",
   "execution_count": null,
   "metadata": {
    "collapsed": true
   },
   "outputs": [],
   "source": [
    "#0.93 C = 10\n",
    "#0.91 C = 0"
   ]
  }
 ],
 "metadata": {
  "anaconda-cloud": {},
  "kernelspec": {
   "display_name": "Python [conda root]",
   "language": "python",
   "name": "conda-root-py"
  },
  "language_info": {
   "codemirror_mode": {
    "name": "ipython",
    "version": 3
   },
   "file_extension": ".py",
   "mimetype": "text/x-python",
   "name": "python",
   "nbconvert_exporter": "python",
   "pygments_lexer": "ipython3",
   "version": "3.5.2"
  }
 },
 "nbformat": 4,
 "nbformat_minor": 1
}
